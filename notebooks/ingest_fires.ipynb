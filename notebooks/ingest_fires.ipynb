{
 "cells": [
  {
   "cell_type": "code",
   "execution_count": 2,
   "id": "a90fea04-1d00-46a9-b807-ecf2e0c66d2d",
   "metadata": {},
   "outputs": [
    {
     "name": "stdout",
     "output_type": "stream",
     "text": [
      " Daily summary produced: 2192 days (should be 365)\n",
      " Missing days filled: 615 days\n",
      " Saved ../data/agrimonia_fire_counts_daily.csv.csv\n"
     ]
    }
   ],
   "source": [
    "import pandas as pd\n",
    "\n",
    "# load the full VIIRS fire dataset\n",
    "fires_df = pd.read_csv(\"../data/viirs_fires_italy.csv\")\n",
    "\n",
    "# bounding box for agrimonia, italy\n",
    "lat_min, lat_max = 45.1678524, 47.1678524\n",
    "lon_min, lon_max = 8.87920992, 10.87920992\n",
    "\n",
    "# filter by bounding box\n",
    "fires_italy = fires_df[\n",
    "    (fires_df[\"latitude\"].between(lat_min, lat_max)) &\n",
    "    (fires_df[\"longitude\"].between(lon_min, lon_max))\n",
    "].copy()\n",
    "\n",
    "# convert acquisition date to datetime\n",
    "fires_italy[\"date\"] = pd.to_datetime(fires_italy[\"acq_date\"], format=\"%Y-%m-%d\")\n",
    "\n",
    "# aggregate to daily summary\n",
    "fires_daily = (\n",
    "    fires_italy\n",
    "    .groupby(\"date\")\n",
    "    .agg(\n",
    "        fire_count = (\"frp\", \"size\"),      # number of fire pixels\n",
    "        avg_frp    = (\"frp\", \"mean\")       # mean fire radiative power\n",
    "    )\n",
    "    .reset_index()\n",
    ")\n",
    "\n",
    "# build full daily index for time span\n",
    "full_idx = pd.DataFrame({\n",
    "    \"date\": pd.date_range(\"2016-01-01\", \"2021-12-31\", freq=\"D\")\n",
    "})\n",
    "\n",
    "# fill missing days with zeros\n",
    "fires_complete = (\n",
    "    full_idx\n",
    "    .merge(fires_daily, on=\"date\", how=\"left\")\n",
    "    .assign(\n",
    "        fire_count = lambda df: df[\"fire_count\"].fillna(0).astype(int),\n",
    "        avg_frp    = lambda df: df[\"avg_frp\"].fillna(0.0)\n",
    "    )\n",
    ")\n",
    "\n",
    "print(f\" Daily summary produced: {len(fires_complete)} days (should be 365)\")\n",
    "print(f\" Missing days filled: {(fires_complete['fire_count']==0).sum()} days\")\n",
    "\n",
    "# save cleaned daily summary\n",
    "fires_complete.to_csv(\"../data/agrimonia_fire_counts_daily.csv\", index=False)\n",
    "print(\" Saved ../data/agrimonia_fire_counts_daily.csv.csv\")\n"
   ]
  },
  {
   "cell_type": "code",
   "execution_count": null,
   "id": "b0d7ab78-8a89-432c-90db-9897280968e5",
   "metadata": {},
   "outputs": [],
   "source": []
  }
 ],
 "metadata": {
  "kernelspec": {
   "display_name": "Python 3 (ipykernel)",
   "language": "python",
   "name": "python3"
  },
  "language_info": {
   "codemirror_mode": {
    "name": "ipython",
    "version": 3
   },
   "file_extension": ".py",
   "mimetype": "text/x-python",
   "name": "python",
   "nbconvert_exporter": "python",
   "pygments_lexer": "ipython3",
   "version": "3.12.4"
  }
 },
 "nbformat": 4,
 "nbformat_minor": 5
}
