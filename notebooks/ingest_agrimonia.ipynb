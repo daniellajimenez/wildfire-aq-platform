{
 "cells": [
  {
   "cell_type": "code",
   "execution_count": 1,
   "id": "d786d9be-1c41-40bc-a924-257f3ea96573",
   "metadata": {},
   "outputs": [
    {
     "name": "stderr",
     "output_type": "stream",
     "text": [
      "/var/folders/b7/4625n9j11m5ccllm3kr0vhq00000gn/T/ipykernel_30342/3169846184.py:36: UserWarning: Could not infer format, so each element will be parsed individually, falling back to `dateutil`. To ensure parsing is consistent and as-expected, please specify a format.\n",
      "  df[\"date\"] = pd.to_datetime(df[\"date\"])\n"
     ]
    },
    {
     "name": "stdout",
     "output_type": "stream",
     "text": [
      "Saved clean daily Agrimonia data to ../data/agrimonia_daily.csv\n"
     ]
    }
   ],
   "source": [
    "import pandas as pd\n",
    "from pathlib import Path\n",
    "\n",
    "RAW_PATH = Path(\"../data/Agrimonia_Dataset_v_2_0_2.csv\")\n",
    "OUTPUT_PATH = Path(\"../data/agrimonia_daily.csv\")\n",
    "\n",
    "# load raw CSV\n",
    "raw = pd.read_csv(RAW_PATH, low_memory=False)\n",
    "\n",
    "# define mapping from raw columns to standardized names\n",
    "RAW_TO_STD = {\n",
    "    \"Time\": \"date\",\n",
    "    \"AQ_pm25\":                \"pm25\",\n",
    "    \"AQ_pm10\":                \"pm10\",\n",
    "    \"AQ_no2\":                 \"no2\",\n",
    "    \"AQ_co\":                  \"co\",\n",
    "    \"AQ_nh3\":                 \"nh3\",\n",
    "    \"AQ_no2\":                 \"no2\",\n",
    "    \"WE_temp_2m\":             \"temp_c\",\n",
    "    \"WE_rh_mean\":             \"humidity\",\n",
    "    \"WE_wind_speed_10m_mean\": \"wind_m_s\",\n",
    "    \"WE_tot_precipitation\":   \"precip_mm\",\n",
    "    \"WE_surface_pressure\":    \"press_hPa\",\n",
    "}\n",
    "\n",
    "\n",
    "# check for missing columns\n",
    "missing = set(RAW_TO_STD) - set(raw.columns)\n",
    "if missing:\n",
    "    raise KeyError(f\"Agrimonia CSV is missing columns: {missing}\")\n",
    "\n",
    "# rename\n",
    "df = raw[list(RAW_TO_STD.keys())].rename(columns=RAW_TO_STD)\n",
    "\n",
    "# parse dates\n",
    "df[\"date\"] = pd.to_datetime(df[\"date\"])\n",
    "\n",
    "# force pollutant and meteorological columns to numeric\n",
    "for col in [\"pm25\", \"pm10\", \"no2\", \"co\", \"nh3\", \"no2\",\n",
    "            \"temp_c\", \"humidity\", \"wind_m_s\", \"precip_mm\", \"press_hPa\"]:\n",
    "    df[col] = pd.to_numeric(df[col], errors=\"coerce\")\n",
    "\n",
    "# daily aggregation (mean of each numeric column)\n",
    "daily = (\n",
    "    df\n",
    "    .groupby(\"date\", as_index=False)\n",
    "    .mean(numeric_only=True)\n",
    "    .sort_values(\"date\")\n",
    ")\n",
    "\n",
    "# fill missing dates with NaN\n",
    "all_days = pd.DataFrame({\"date\": pd.date_range(daily[\"date\"].min(),\n",
    "                                               daily[\"date\"].max(),\n",
    "                                               freq=\"D\")})\n",
    "daily = all_days.merge(daily, on=\"date\", how=\"left\")\n",
    "\n",
    "# save to CSV\n",
    "daily.to_csv(OUTPUT_PATH, index=False)\n",
    "print(f\"Saved clean daily Agrimonia data to {OUTPUT_PATH}\")\n"
   ]
  },
  {
   "cell_type": "code",
   "execution_count": null,
   "id": "5a1a2638-2c3f-483a-af38-d0043c5a77e7",
   "metadata": {},
   "outputs": [],
   "source": []
  }
 ],
 "metadata": {
  "kernelspec": {
   "display_name": "Python 3 (ipykernel)",
   "language": "python",
   "name": "python3"
  },
  "language_info": {
   "codemirror_mode": {
    "name": "ipython",
    "version": 3
   },
   "file_extension": ".py",
   "mimetype": "text/x-python",
   "name": "python",
   "nbconvert_exporter": "python",
   "pygments_lexer": "ipython3",
   "version": "3.12.4"
  }
 },
 "nbformat": 4,
 "nbformat_minor": 5
}
