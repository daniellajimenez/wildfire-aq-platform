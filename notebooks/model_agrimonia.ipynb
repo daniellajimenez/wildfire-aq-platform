{
 "cells": [
  {
   "cell_type": "code",
   "execution_count": 1,
   "id": "9383b559-5d8a-4922-8a9b-67ee794c5014",
   "metadata": {},
   "outputs": [
    {
     "name": "stdout",
     "output_type": "stream",
     "text": [
      "Fitting 5 folds for each of 54 candidates, totalling 270 fits\n",
      "Best params: {'learning_rate': 0.1, 'max_depth': 5, 'n_estimators': 100, 'subsample': 0.7}\n",
      "Test RMSE: 2.71\n",
      "Test R²:   0.95\n",
      "Model saved to ../models/xgb_agrimonia_daily.joblib\n"
     ]
    },
    {
     "name": "stderr",
     "output_type": "stream",
     "text": [
      "/opt/anaconda3/lib/python3.12/site-packages/sklearn/metrics/_regression.py:483: FutureWarning: 'squared' is deprecated in version 1.4 and will be removed in 1.6. To calculate the root mean squared error, use the function'root_mean_squared_error'.\n",
      "  warnings.warn(\n"
     ]
    }
   ],
   "source": [
    "import os\n",
    "import pandas as pd\n",
    "from datetime import datetime\n",
    "from sklearn.model_selection import train_test_split, GridSearchCV\n",
    "from sklearn.metrics import mean_squared_error, r2_score\n",
    "import joblib\n",
    "import xgboost as xgb\n",
    "\n",
    "# 1oad & prepare data\n",
    "DATA_PATH = \"../data/agrimonia_daily.csv\"\n",
    "df = pd.read_csv(DATA_PATH, parse_dates=[\"date\"])\n",
    "df = df.sort_values(\"date\").set_index(\"date\")\n",
    "\n",
    "# feature engineering\n",
    "# time features\n",
    "df[\"dayofyear\"] = df.index.dayofyear\n",
    "df[\"month\"]     = df.index.month\n",
    "df[\"weekday\"]   = df.index.weekday\n",
    "\n",
    "# lag features (1, 2, 3 days)\n",
    "for lag in [1, 2, 3]:\n",
    "    df[f\"pm25_lag{lag}\"] = df[\"pm25\"].shift(lag)\n",
    "\n",
    "# rolling means (7-day, 14-day)\n",
    "df[\"pm25_roll7\"]  = df[\"pm25\"].rolling(7).mean()\n",
    "df[\"pm25_roll14\"] = df[\"pm25\"].rolling(14).mean()\n",
    "\n",
    "# drop NaNs from lags/rollings\n",
    "df = df.dropna()\n",
    "\n",
    "# train/test split\n",
    "y = df[\"pm25\"]\n",
    "X = df.drop(columns=\"pm25\")\n",
    "\n",
    "# use last 20% of time for test\n",
    "split_idx = int(len(df)*0.8)\n",
    "X_train, X_test = X.iloc[:split_idx], X.iloc[split_idx:]\n",
    "y_train, y_test = y.iloc[:split_idx], y.iloc[split_idx:]\n",
    "\n",
    "# hyperparameter tuning with GridSearchCV\n",
    "xgb_reg = xgb.XGBRegressor(objective=\"reg:squarederror\", random_state=42)\n",
    "\n",
    "param_grid = {\n",
    "    \"n_estimators\": [100, 300, 500],\n",
    "    \"max_depth\":    [3, 5, 7],\n",
    "    \"learning_rate\":[0.01, 0.1, 0.2],\n",
    "    \"subsample\":    [0.7, 1.0],\n",
    "}\n",
    "\n",
    "grid = GridSearchCV(\n",
    "    estimator=xgb_reg,\n",
    "    param_grid=param_grid,\n",
    "    cv=5,\n",
    "    scoring=\"r2\",\n",
    "    n_jobs=-1,\n",
    "    verbose=1\n",
    ")\n",
    "grid.fit(X_train, y_train)\n",
    "\n",
    "best_model = grid.best_estimator_\n",
    "print(\"Best params:\", grid.best_params_)\n",
    "\n",
    "# evaluate on test set\n",
    "y_pred = best_model.predict(X_test)\n",
    "rmse = mean_squared_error(y_test, y_pred, squared=False)\n",
    "r2   = r2_score(y_test, y_pred)\n",
    "\n",
    "print(f\"Test RMSE: {rmse:.2f}\")\n",
    "print(f\"Test R²:   {r2:.2f}\")\n",
    "\n",
    "# save model & metrics\n",
    "os.makedirs(\"../models\", exist_ok=True)\n",
    "MODEL_PATH  = \"../models/xgb_agrimonia_daily.joblib\"\n",
    "METRICS_PATH = \"../data/metrics_agrimonia_daily.csv\"\n",
    "\n",
    "joblib.dump(best_model, MODEL_PATH)\n",
    "pd.DataFrame([{\"rmse\": rmse, \"r2\": r2}]).to_csv(METRICS_PATH, index=False)\n",
    "\n",
    "print(f\"Model saved to {MODEL_PATH}\")"
   ]
  },
  {
   "cell_type": "code",
   "execution_count": null,
   "id": "fc4bcf4f-7143-4659-a0da-a9d9b14b2794",
   "metadata": {},
   "outputs": [],
   "source": []
  }
 ],
 "metadata": {
  "kernelspec": {
   "display_name": "Python 3 (ipykernel)",
   "language": "python",
   "name": "python3"
  },
  "language_info": {
   "codemirror_mode": {
    "name": "ipython",
    "version": 3
   },
   "file_extension": ".py",
   "mimetype": "text/x-python",
   "name": "python",
   "nbconvert_exporter": "python",
   "pygments_lexer": "ipython3",
   "version": "3.12.4"
  }
 },
 "nbformat": 4,
 "nbformat_minor": 5
}
